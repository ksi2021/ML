{
 "cells": [
  {
   "cell_type": "code",
   "execution_count": 6,
   "id": "07e966b9",
   "metadata": {},
   "outputs": [],
   "source": [
    "# !pip install pysqlite3\n",
    "# !pip install pandas\n",
    "import pandas as pd\n",
    "import numpy as np\n",
    "import os\n",
    "import sqlite3"
   ]
  },
  {
   "cell_type": "code",
   "execution_count": 13,
   "id": "7ea32e71",
   "metadata": {},
   "outputs": [],
   "source": [
    "pd.options.display.max_columns = None\n",
    "pd.options.display.max_rows = None"
   ]
  },
  {
   "cell_type": "code",
   "execution_count": 10,
   "id": "52a25e99",
   "metadata": {},
   "outputs": [],
   "source": [
    "for root, dirs, files in os.walk(\"./set\"):\n",
    "    for filename in files:\n",
    "        base = os.path.splitext(filename)[0]\n",
    "        os.rename(f'./set/{filename}', f'./set/{base}.csv')"
   ]
  },
  {
   "cell_type": "code",
   "execution_count": 47,
   "id": "40d099a3",
   "metadata": {},
   "outputs": [
    {
     "name": "stdout",
     "output_type": "stream",
     "text": [
      "['RecordID' 'Age' 'Gender' 'Height' 'ICUType' 'Weight' 'GCS' 'HR'\n",
      " 'NIDiasABP' 'NIMAP' 'NISysABP' 'RespRate' 'Temp' 'Urine' 'HCT' 'BUN'\n",
      " 'Creatinine' 'Glucose' 'HCO3' 'Mg' 'Platelets' 'K' 'Na' 'WBC']\n",
      "['RecordID' 'Age' 'Gender' 'Height' 'ICUType' 'Weight' 'pH' 'PaCO2' 'PaO2'\n",
      " 'DiasABP' 'FiO2' 'HCT' 'HR' 'MAP' 'MechVent' 'Platelets' 'SysABP' 'Temp'\n",
      " 'WBC' 'GCS' 'Urine' 'BUN' 'Creatinine' 'HCO3' 'Mg' 'SaO2' 'Glucose' 'K'\n",
      " 'Na' 'NIDiasABP' 'NIMAP' 'NISysABP']\n",
      "['RecordID' 'Age' 'Gender' 'Height' 'ICUType' 'Weight' 'GCS' 'HR'\n",
      " 'NIDiasABP' 'NIMAP' 'NISysABP' 'Temp' 'Urine' 'Albumin' 'ALP' 'ALT' 'AST'\n",
      " 'Bilirubin' 'BUN' 'Creatinine' 'Glucose' 'HCO3' 'HCT' 'Mg' 'Platelets'\n",
      " 'K' 'Na' 'WBC' 'Lactate' 'FiO2' 'MechVent' 'pH' 'PaCO2' 'PaO2' 'SaO2'\n",
      " 'DiasABP' 'MAP' 'SysABP']\n"
     ]
    }
   ],
   "source": [
    "iter = 0\n",
    "for root, dirs, files in os.walk(\"./set\"):\n",
    "    for filename in files:\n",
    "        temp = pd.read_csv(f'{root}/{filename}')\n",
    "        print(temp.iloc[:,1].unique())\n",
    "        if iter == 2:\n",
    "            break\n",
    "        iter+=1"
   ]
  }
 ],
 "metadata": {
  "kernelspec": {
   "display_name": "Python 3 (ipykernel)",
   "language": "python",
   "name": "python3"
  },
  "language_info": {
   "codemirror_mode": {
    "name": "ipython",
    "version": 3
   },
   "file_extension": ".py",
   "mimetype": "text/x-python",
   "name": "python",
   "nbconvert_exporter": "python",
   "pygments_lexer": "ipython3",
   "version": "3.10.0"
  }
 },
 "nbformat": 4,
 "nbformat_minor": 5
}
